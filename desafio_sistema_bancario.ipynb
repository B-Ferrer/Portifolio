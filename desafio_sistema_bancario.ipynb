{
 "cells": [
  {
   "cell_type": "markdown",
   "metadata": {},
   "source": []
  },
  {
   "cell_type": "code",
   "execution_count": 7,
   "metadata": {},
   "outputs": [
    {
     "name": "stdout",
     "output_type": "stream",
     "text": [
      "Você selecionou Despósito. \n",
      "Insira o valor a depositar!\n",
      "Operação realizada.\n",
      "Saldo atual: R$100.00\n",
      "Você selecionou Saque.\n",
      "Insira o valor a sacar!\n",
      "Operação não realizada. \n",
      "Saldo insuficiente!\n",
      "Você selecionou Despósito. \n",
      "Insira o valor a depositar!\n",
      "Operação realizada.\n",
      "Saldo atual: R$400.00\n",
      "Você selecionou Extrato.\n",
      "Seu saldo atual é de R$400.00\n",
      "Opção Inválida. Por favor selecione novamente a opção desejada.\n",
      "Opção Inválida. Por favor selecione novamente a opção desejada.\n"
     ]
    }
   ],
   "source": [
    "menu = \"\"\" \n",
    "\n",
    "[d] Depositar\n",
    "[s] Sacar\n",
    "[e] Extrato\n",
    "[q] Sair\n",
    "\n",
    "=> \"\"\"\n",
    "\n",
    "saldo = 0\n",
    "limite = 500\n",
    "extrato = \"\"\n",
    "numero_saques = 0\n",
    "limite_saques = 3\n",
    "\n",
    "while True:\n",
    "\n",
    "    opcao = input(menu)\n",
    "\n",
    "    if opcao == \"d\":\n",
    "      print (\"Você selecionou Despósito. \\nInsira o valor a depositar!\")\n",
    "      valor = float(input(\"Valor: \"))\n",
    "      if valor > 0.00:\n",
    "       saldo = saldo + valor\n",
    "       print (\"Operação realizada.\\nSaldo atual: R$%.2f\" % saldo)\n",
    "\n",
    "      else:\n",
    "       print (\"Valor inválido! \\nFavor inserir um valor maior que zero!\")\n",
    "\n",
    "    elif opcao == \"s\":\n",
    "      print (\"Você selecionou Saque.\\nInsira o valor a sacar!\")\n",
    "      if numero_saques <= limite_saques:\n",
    "       saque = float(input(\"Valor: \"))\n",
    "        \n",
    "      else:\n",
    "       print (\"Limite de saques excedido!\")\n",
    "       \n",
    "      if saque <= saldo and saque <= limite:\n",
    "       saldo = saldo - saque\n",
    "       print (\"Operação realizada. \\nSaldo atual: R$%.2f\" % saldo)\n",
    "       numero_saques = numero_saques + 1\n",
    "\n",
    "      elif saque <= saldo and saque > limite:\n",
    "       print (\"Operação não realizada. \\nO valor excedeu o limite diário de saques.\")\n",
    "\n",
    "      else:\n",
    "       print (\"Operação não realizada. \\nSaldo insuficiente!\")\n",
    "\n",
    "\n",
    "    elif opcao == \"e\":\n",
    "       print (\"Você selecionou Extrato.\")\n",
    "       print (\"Seu saldo atual é de R$%.2f\" % saldo)\n",
    "\n",
    "    elif opcao == \"q\":\n",
    "       break\n",
    "\n",
    "    else:\n",
    "       print (\"Opção Inválida. Por favor selecione novamente a opção desejada.\")\n",
    "\n"
   ]
  }
 ],
 "metadata": {
  "kernelspec": {
   "display_name": "base",
   "language": "python",
   "name": "python3"
  },
  "language_info": {
   "codemirror_mode": {
    "name": "ipython",
    "version": 3
   },
   "file_extension": ".py",
   "mimetype": "text/x-python",
   "name": "python",
   "nbconvert_exporter": "python",
   "pygments_lexer": "ipython3",
   "version": "3.9.12"
  }
 },
 "nbformat": 4,
 "nbformat_minor": 2
}
